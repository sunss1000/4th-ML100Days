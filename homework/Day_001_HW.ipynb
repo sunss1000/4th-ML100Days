{
 "cells": [
  {
   "cell_type": "markdown",
   "metadata": {},
   "source": [
    "## 練習時間\n",
    "#### 請寫一個函式用來計算 Mean Square Error\n",
    "$ MSE = \\frac{1}{n}\\sum_{i=1}^{n}{(Y_i - \\hat{Y}_i)^2} $\n",
    "\n",
    "### Hint: [如何取平方](https://googoodesign.gitbooks.io/-ezpython/unit-1.html)"
   ]
  },
  {
   "cell_type": "markdown",
   "metadata": {},
   "source": [
    "# [作業目標]\n",
    "- 仿造範例的MAE函數, 自己寫一個MSE函數(參考上面公式)"
   ]
  },
  {
   "cell_type": "markdown",
   "metadata": {},
   "source": [
    "# [作業重點]\n",
    "- 注意程式的縮排\n",
    "- 是否能將數學公式, 轉換為 Python 的函式組合? (In[2], Out[2])"
   ]
  },
  {
   "cell_type": "code",
   "execution_count": 18,
   "metadata": {},
   "outputs": [],
   "source": [
    "# 載入基礎套件與代稱\n",
    "# Sophie筆記：numpy為數值/陣列運算 matplotlib擅長繪圖\n",
    "import numpy as np\n",
    "import matplotlib.pyplot as plt"
   ]
  },
  {
   "cell_type": "code",
   "execution_count": 19,
   "metadata": {},
   "outputs": [],
   "source": [
    "def mean_absolute_error(y, yp):\n",
    "    \"\"\"\n",
    "    計算 MAE\n",
    "    Args:\n",
    "        - y: 實際值\n",
    "        - yp: 預測值\n",
    "    Return:\n",
    "        - mae: MAE\n",
    "    \"\"\"\n",
    "    mae = MAE = sum(abs(y - yp)) / len(y)\n",
    "    return mae\n",
    "\n",
    "# 定義 mean_squared_error 這個函數, 計算並傳回 MSE\n",
    "def mean_squared_error(y,yp):\n",
    "    \"\"\"\n",
    "    請完成這個 Function 後往下執行\n",
    "    \"\"\"\n",
    "    mse = MSE = sum((y-yp) ** 2)/ len(y)\n",
    "    return mse\n",
    "# Sophie 筆記 len 為 長度"
   ]
  },
  {
   "cell_type": "code",
   "execution_count": 20,
   "metadata": {},
   "outputs": [
    {
     "data": {
      "image/png": "[encoded data removed]",
      "text/plain": [
       "<Figure size 432x288 with 1 Axes>"
      ]
     },
     "metadata": {
      "needs_background": "light"
     },
     "output_type": "display_data"
    }
   ],
   "source": [
    "# 與範例相同, 不另外解說\n",
    "w = 3\n",
    "b = 0.5\n",
    "x_lin = np.linspace(0, 100, 101)\n",
    "y = (x_lin + np.random.randn(101) * 5) * w + b\n",
    "\n",
    "plt.plot(x_lin, y, 'b.', label = 'data points')\n",
    "plt.title(\"Assume we have data points\")\n",
    "plt.legend(loc = 2)\n",
    "plt.show()"
   ]
  },
  {
   "cell_type": "code",
   "execution_count": 21,
   "metadata": {},
   "outputs": [
    {
     "data": {
      "image/png": "[encoded data removed]",
      "text/plain": [
       "<Figure size 432x288 with 1 Axes>"
      ]
     },
     "metadata": {
      "needs_background": "light"
     },
     "output_type": "display_data"
    }
   ],
   "source": [
    "# 與範例相同, 不另外解說\n",
    "y_hat = x_lin * w + b\n",
    "plt.plot(x_lin, y, 'b.', label = 'data')\n",
    "plt.plot(x_lin, y_hat, 'r-', label = 'prediction')\n",
    "plt.title(\"Assume we have data points (And the prediction)\")\n",
    "plt.legend(loc = 2)\n",
    "plt.show()"
   ]
  },
  {
   "cell_type": "code",
   "execution_count": 22,
   "metadata": {
    "scrolled": true
   },
   "outputs": [
    {
     "name": "stdout",
     "output_type": "stream",
     "text": [
      "The Mean squared error is 277.402\n",
      "The Mean absolute error is 12.902\n"
     ]
    }
   ],
   "source": [
    "# 執行 Function, 確認有沒有正常執行\n",
    "MSE = mean_squared_error(y, y_hat)\n",
    "MAE = mean_absolute_error(y, y_hat)\n",
    "print(\"The Mean squared error is %.3f\" % (MSE))\n",
    "print(\"The Mean absolute error is %.3f\" % (MAE))"
   ]
  },
  {
   "cell_type": "markdown",
   "metadata": {},
   "source": [
    "# [作業2]\n",
    "\n",
    "請上 Kaggle, 在 Competitions 或 Dataset 中找一組競賽或資料並寫下：\n",
    "\n",
    "1. 你選的這組資料為何重要\n",
    "\n",
    " 我選的這組資料為Novel Corona Virus 2019 Dataset，為目前威脅世界人類健康的新型冠狀病毒的資料，它在Kaggle的關注度為目前最高，也是各國政府極力要處理的危及事件。我之所以選擇這組資料，若可以透過分析確診個案的群聚地點以及發展進程，可以幫助流行病學的專家了解病毒於不同國家傳播的速度及規模，若即時的掌握數據的正確性及即時的分析，可以加強於疫情的控制策略上，同樣透過這組資料所得到的資訊，了解病毒之於人類所存在的康復率及死亡率，預測未來若確診病例增加而預估的死亡比例，推估對人類的危害會到什麼程度。  \n",
    " 另外可以取相關資料進行比對分析，比對過去發生過的類似疾病(SARS、MERS)的資料，交叉比對分析，預估未來疫情何時得以控制。抑或是受疫情影響的範圍，對產業所造成的經濟衝擊等。  \n",
    " \n",
    " \n",
    "2. 資料從何而來 (tips: 譬如提供者是誰、以什麼方式蒐集)\n",
    "\n",
    " 資料的來源及提供者分別為WHO(世界衛生組織), CDC(Centers for Disease Control and Prevention), NHC(National Hurricane Center) and DXY(DOLLAR INDEX SPOT)\n",
    " \n",
    " 其搜集的方式由各個國家的主要資訊平台(如媒體、或政府組織)所公布的訊息彙整成此資料\n",
    "\n",
    "3. 蒐集而來的資料型態為何\n",
    "\n",
    " 此資料的型態皆為結構化的資料，由下列型態組成  \n",
    "     字元(Province/State, Country/Region/symptoms...等 )  \n",
    "     整數(Deaths, Recovered ... 等)  \n",
    "     時間日期資料(Last Update ...等)  \n",
    "     浮點數(latitude, longtitude ...等)  \n",
    "     布林值(wuhan(0)_not_wuhan(1))  \n",
    "      \n",
    "4. 這組資料想解決的問題如何評估\n",
    "\n",
    " 以國家地區作為區分，將資料分組，然後以時間為X軸，確診人數為Y軸，進行回歸線建模，預測未來的時間點可能感染新冠肺炎的人數為何。\n",
    "\n",
    "# [作業3]\n",
    "\n",
    "想像你經營一個自由載客車隊，你希望能透過數據分析以提升業績，請你思考並描述你如何規劃整體的分析/解決方案：\n",
    "\n",
    "1. 核心問題為何 (tips：如何定義 「提升業績 & 你的假設」)\n",
    "\n",
    "  提升業績 -> 提高載客量 -> 了解乘客搭車的需求 -> 搜尋需求的資訊 -> 針對需求提供載客服務 \n",
    "  提升業績需了解潛在客戶的搭乘需求為何，針對需求去提供適當的服務，進而達到提升業績。  \n",
    "  \n",
    "  針對需求可以提出下列可以調查的需求因子：  \n",
    "  (1) 乘客在什麼時候會有搭乘需求？  \n",
    "  (2) 乘客在哪裡會有搭乘需求？  \n",
    "  (3) 特定地點的人潮流動的動向為何？  \n",
    "  (4) 計程車車隊的市場定價為何，顧客可以接受的價格為何？  \n",
    "  (5) 乘客通常透過什麼方式取得服務？我們可以採用什麼方式給予服務？  \n",
    "  (6) 乘客為什麼需要搭乘計程車？  \n",
    "  (7) 乘客需要搭乘哪一種車型？  \n",
    "  (8) 哪些乘客(或是在哪種情形)會有搭車需求？  \n",
    "  \n",
    "  \n",
    "2. 資料從何而來 (tips：哪些資料可能會對你想問的問題產生影響 & 資料如何蒐集)\n",
    "\n",
    "  資料搜集的方式分為「內部資料」、「外部資料」及「自行調查」\n",
    "  內部資料如自身營運狀況的情形，了解主力業績的來源為何，業績產生的原因為何？\n",
    "  外部資料的搜集如內政部人口統計資料，了解各個行政區的人口密度，可以了解人潮聚集處，人潮聚集處高者，會有較高的搭乘需求  \n",
    "  自行調查包含人潮流量方面，先選定交通工具，如機車、汽車、公車、捷運，並透過攝影流量搜集器捕捉人潮流量資料。  \n",
    "  在顧客本身需求方面可以透過問卷設計，了解乘客自身需求問題，可分為結構式及非結構式的問題設計蒐集到不同的資訊。  \n",
    "  \n",
    "\n",
    "3. 蒐集而來的資料型態為何\n",
    "\n",
    "  結構式的資料為居多，其資料型態包含：  \n",
    "     字元(地點,交通工具,顧客身分,搭乘需求...等 )  \n",
    "     整數(搭乘交通的花費, 乘客一週外出的次數, 搭乘計程車可接受的金額 ... 等)  \n",
    "     時間日期資料(人潮流動的時間點, 汽車流動的時間點 ...等)  \n",
    "     浮點數(latitude, longtitude ...等)  \n",
    "     布林值(是否往市區)  \n",
    "  \n",
    "  \n",
    "4. 你要回答的問題，其如何評估 (tips：你的假設如何驗證)  \n",
    "\n",
    "  了解地區的車流，將車隊數量於車流高處者提高，觀察業績的變化  \n",
    "  了解顧客可以接受的價格，評估自身的成本，設置符合市場需求的定價，並在特定場合時間提供促銷活動，觀察業績、毛利率、淨利的變化  \n",
    "  了解客戶對車型的需求，設置不同產品區隔定位，觀察業績的變化  \n",
    "  了解顧客取得產品服務的方式，優化它，將方法變得更簡單，並觀察業績的變化。  "
   ]
  },
  {
   "cell_type": "code",
   "execution_count": null,
   "metadata": {},
   "outputs": [],
   "source": []
  }
 ],
 "metadata": {
  "anaconda-cloud": {},
  "kernelspec": {
   "display_name": "Python 3",
   "language": "python",
   "name": "python3"
  },
  "language_info": {
   "codemirror_mode": {
    "name": "ipython",
    "version": 3
   },
   "file_extension": ".py",
   "mimetype": "text/x-python",
   "name": "python",
   "nbconvert_exporter": "python",
   "pygments_lexer": "ipython3",
   "version": "3.7.4"
  }
 },
 "nbformat": 4,
 "nbformat_minor": 1
}
